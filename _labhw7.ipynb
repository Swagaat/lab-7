{
  "nbformat": 4,
  "nbformat_minor": 0,
  "metadata": {
    "colab": {
      "provenance": [],
      "authorship_tag": "ABX9TyMEVLMPcSH1ICHUh4XKPthf",
      "include_colab_link": true
    },
    "kernelspec": {
      "name": "python3",
      "display_name": "Python 3"
    },
    "language_info": {
      "name": "python"
    }
  },
  "cells": [
    {
      "cell_type": "markdown",
      "metadata": {
        "id": "view-in-github",
        "colab_type": "text"
      },
      "source": [
        "<a href=\"https://colab.research.google.com/github/Swagaat/lab-7/blob/main/_labhw7.ipynb\" target=\"_parent\"><img src=\"https://colab.research.google.com/assets/colab-badge.svg\" alt=\"Open In Colab\"/></a>"
      ]
    },
    {
      "cell_type": "code",
      "execution_count": null,
      "metadata": {
        "id": "kaH-3fCi4uEU",
        "colab": {
          "base_uri": "https://localhost:8080/"
        },
        "outputId": "332ca55f-2a38-440a-841d-d7e66c972cfd"
      },
      "outputs": [
        {
          "output_type": "stream",
          "name": "stdout",
          "text": [
            "Enter the number of darts: 3\n",
            "Estimate of pi: 4.0\n"
          ]
        }
      ],
      "source": [
        "import random\n",
        "def carlo():\n",
        "\n",
        " num_darts = eval(input(\"Enter the number of darts: \"))\n",
        "\n",
        "# Keep track of how many darts fall inside the inscribed circle\n",
        " inside_circle = 0\n",
        "\n",
        "# Simulate throwing darts\n",
        " for i in range(num_darts):\n",
        "  x = 2 * random.random() - 1  \n",
        "  y = 2 * random.random() - 1  \n",
        "  \n",
        "  # Check if the point lies inside the inscribed circle\n",
        "  if x**2 + y**2 < 1:\n",
        "    inside_circle += 1\n",
        "\n",
        "# Estimate pi\n",
        " estimate_pi = 4 * inside_circle / num_darts\n",
        " print(\"Estimate of pi:\", estimate_pi)\n",
        "carlo();"
      ]
    },
    {
      "cell_type": "code",
      "source": [
        "import random\n",
        "def ran():\n",
        "# Number of steps in the random walk\n",
        " n = 1000\n",
        "\n",
        "# Number of simulations to run\n",
        " num_simulations = 10000\n",
        "\n",
        "# Total number of steps away from the starting point, after all simulations\n",
        " total_distance = 0\n",
        "\n",
        " for i in range(num_simulations):\n",
        "    # Simulate a random walk of n steps\n",
        "    distance = 0\n",
        "    for i in range(n):\n",
        "        if random.random() < 0.5:\n",
        "            distance += 1\n",
        "        else:\n",
        "            distance -= 1\n",
        "\n",
        "    # Add the distance from the starting point to the total\n",
        "    total_distance += distance\n",
        "\n",
        "# Calculate the average distance from the starting point\n",
        " average_distance = total_distance / num_simulations\n",
        "\n",
        " print(f\"After {n} steps; the average distance from the starting point is {average_distance:.2f}.\")\n",
        "ran();"
      ],
      "metadata": {
        "id": "rTH3gD4-6xtT",
        "colab": {
          "base_uri": "https://localhost:8080/"
        },
        "outputId": "13df1548-ff7f-48f1-f9d7-b500eb8a8f74"
      },
      "execution_count": null,
      "outputs": [
        {
          "output_type": "stream",
          "name": "stdout",
          "text": [
            "After 1000 steps, the average distance from the starting point is -0.14.\n"
          ]
        }
      ]
    }
  ]
}